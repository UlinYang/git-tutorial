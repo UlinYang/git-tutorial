{
  "nbformat": 4,
  "nbformat_minor": 0,
  "metadata": {
    "colab": {
      "name": "practice1.ipynb",
      "provenance": [],
      "authorship_tag": "ABX9TyOVmyGv5gtZXccIOouVIKPi",
      "include_colab_link": true
    },
    "kernelspec": {
      "name": "python3",
      "display_name": "Python 3"
    },
    "language_info": {
      "name": "python"
    },
    "accelerator": "GPU",
    "gpuClass": "standard"
  },
  "cells": [
    {
      "cell_type": "markdown",
      "metadata": {
        "id": "view-in-github",
        "colab_type": "text"
      },
      "source": [
        "<a href=\"https://colab.research.google.com/github/UlinYang/git-tutorial/blob/main/practice1.ipynb\" target=\"_parent\"><img src=\"https://colab.research.google.com/assets/colab-badge.svg\" alt=\"Open In Colab\"/></a>"
      ]
    },
    {
      "cell_type": "code",
      "execution_count": 1,
      "metadata": {
        "id": "NLOeJM43Ryv9"
      },
      "outputs": [],
      "source": [
        "import torch\n",
        "import numpy as np"
      ]
    },
    {
      "cell_type": "code",
      "source": [
        "tensor = torch.rand(2,3)\n",
        "matrix = np.random.rand(2,3)\n",
        "print(f\"Tensor:\\n {tensor}\")\n",
        "print(f\"Matrix:\\n {matrix}\")"
      ],
      "metadata": {
        "colab": {
          "base_uri": "https://localhost:8080/"
        },
        "id": "vW1AmAThTDgq",
        "outputId": "d608cf7d-58b6-4e27-b391-69aaba909279"
      },
      "execution_count": 2,
      "outputs": [
        {
          "output_type": "stream",
          "name": "stdout",
          "text": [
            "Tensor:\n",
            " tensor([[0.8088, 0.5527, 0.3844],\n",
            "        [0.5957, 0.7677, 0.1717]])\n",
            "Matrix:\n",
            " [[0.32705306 0.97203524 0.22973465]\n",
            " [0.3232886  0.83870425 0.19018621]]\n"
          ]
        }
      ]
    },
    {
      "cell_type": "code",
      "source": [
        "tensor = torch.zeros(2,3)\n",
        "matrix = np.zeros((2,3))\n",
        "print(f\"Tensor:\\n {tensor}\")\n",
        "print(f\"Matrix:\\n {matrix}\")"
      ],
      "metadata": {
        "colab": {
          "base_uri": "https://localhost:8080/"
        },
        "id": "7ghk4bGXUM5m",
        "outputId": "c90f0094-5db0-4bf7-ac53-3cb062306918"
      },
      "execution_count": 3,
      "outputs": [
        {
          "output_type": "stream",
          "name": "stdout",
          "text": [
            "Tensor:\n",
            " tensor([[0., 0., 0.],\n",
            "        [0., 0., 0.]])\n",
            "Matrix:\n",
            " [[0. 0. 0.]\n",
            " [0. 0. 0.]]\n"
          ]
        }
      ]
    },
    {
      "cell_type": "code",
      "source": [
        "tensor = torch.ones(2,3)\n",
        "matrix = np.ones((2,3))\n",
        "print(f\"Tensor:\\n {tensor}\")\n",
        "print(f\"Matrix:\\n {matrix}\")"
      ],
      "metadata": {
        "colab": {
          "base_uri": "https://localhost:8080/"
        },
        "id": "5hA8MIdaUWFO",
        "outputId": "a7ec5797-b05a-4ca9-8a6a-d5ec24edf74e"
      },
      "execution_count": 4,
      "outputs": [
        {
          "output_type": "stream",
          "name": "stdout",
          "text": [
            "Tensor:\n",
            " tensor([[1., 1., 1.],\n",
            "        [1., 1., 1.]])\n",
            "Matrix:\n",
            " [[1. 1. 1.]\n",
            " [1. 1. 1.]]\n"
          ]
        }
      ]
    },
    {
      "cell_type": "code",
      "source": [
        "print(f\"Tensor:\\n {tensor.dtype}\")\n",
        "print(f\"Matrix:\\n {matrix.dtype}\")"
      ],
      "metadata": {
        "colab": {
          "base_uri": "https://localhost:8080/"
        },
        "id": "dBK8iLdTUc0w",
        "outputId": "35bbeeca-f655-423a-c1a5-4b96408bb32e"
      },
      "execution_count": 5,
      "outputs": [
        {
          "output_type": "stream",
          "name": "stdout",
          "text": [
            "Tensor:\n",
            " torch.float32\n",
            "Matrix:\n",
            " float64\n"
          ]
        }
      ]
    },
    {
      "cell_type": "code",
      "source": [
        "print(f\"Tensor:\\n {tensor.size()}\")\n",
        "print(f\"Tensor:\\n {tensor.shape}\")\n",
        "print(f\"Matrix:\\n {matrix.shape}\")"
      ],
      "metadata": {
        "colab": {
          "base_uri": "https://localhost:8080/"
        },
        "id": "_5zJKHjcUeKD",
        "outputId": "a89dbb5b-c9df-4d37-9c3d-f90c8503fec4"
      },
      "execution_count": 6,
      "outputs": [
        {
          "output_type": "stream",
          "name": "stdout",
          "text": [
            "Tensor:\n",
            " torch.Size([2, 3])\n",
            "Tensor:\n",
            " torch.Size([2, 3])\n",
            "Matrix:\n",
            " (2, 3)\n"
          ]
        }
      ]
    },
    {
      "cell_type": "code",
      "source": [
        "# list to torch\n",
        "tensor = torch.tensor([2.3, 1.2, 5.7])\n",
        "print(f\"Tensor:\\n {tensor.size()}\")\n",
        "\n",
        "# list to numpy\n",
        "matrix = np.array([2.3, 1.2, 5.7])\n",
        "print(f\"Matrix:\\n {matrix.shape}\")"
      ],
      "metadata": {
        "colab": {
          "base_uri": "https://localhost:8080/"
        },
        "id": "On7DFz-7Uvrm",
        "outputId": "f25580fd-d80a-4d3b-da48-b852b2df6c35"
      },
      "execution_count": 7,
      "outputs": [
        {
          "output_type": "stream",
          "name": "stdout",
          "text": [
            "Tensor:\n",
            " torch.Size([3])\n",
            "Matrix:\n",
            " (3,)\n"
          ]
        }
      ]
    },
    {
      "cell_type": "code",
      "source": [
        "# numpy <=> torch\n",
        "tensor = torch.tensor([1, 2, 3])\n",
        "matrix = np.array([1, 2, 3])\n",
        "print(torch.from_numpy(matrix))\n",
        "print(tensor.numpy())"
      ],
      "metadata": {
        "colab": {
          "base_uri": "https://localhost:8080/"
        },
        "id": "9W282BaQU14p",
        "outputId": "d1c24f00-3bf5-4e02-df66-cb0685f23ae5"
      },
      "execution_count": 8,
      "outputs": [
        {
          "output_type": "stream",
          "name": "stdout",
          "text": [
            "tensor([1, 2, 3])\n",
            "[1 2 3]\n"
          ]
        }
      ]
    },
    {
      "cell_type": "code",
      "source": [
        "# call by reference\n",
        "tensor = torch.tensor([1, 2, 3])\n",
        "matrix = tensor.numpy()\n",
        "\n",
        "tensor += 1\n",
        "print(tensor)\n",
        "print(matrix)"
      ],
      "metadata": {
        "colab": {
          "base_uri": "https://localhost:8080/"
        },
        "id": "4UK0FxfqWcTQ",
        "outputId": "815aee27-c0ed-4e6c-b6c4-28eb2b81ac70"
      },
      "execution_count": 9,
      "outputs": [
        {
          "output_type": "stream",
          "name": "stdout",
          "text": [
            "tensor([2, 3, 4])\n",
            "[2 3 4]\n"
          ]
        }
      ]
    },
    {
      "cell_type": "code",
      "source": [
        "# operator \n",
        "t1 = torch.tensor([2.3, 1.2, 5.7])\n",
        "t2 = torch.tensor([3.2, 2.8, 7.8])\n",
        "print(torch.add(t1, t2)) # t1 + t2\n",
        "print(torch.sub(t1, t2)) # t1 - t2\n",
        "print(torch.mul(t1, t2)) # t1 * t2\n",
        "print(torch.div(t1, t2)) # t1 / t2"
      ],
      "metadata": {
        "colab": {
          "base_uri": "https://localhost:8080/"
        },
        "id": "qyNCapkBWpm5",
        "outputId": "99d13789-17cf-44bd-f654-902b091d3bc2"
      },
      "execution_count": 12,
      "outputs": [
        {
          "output_type": "stream",
          "name": "stdout",
          "text": [
            "tensor([ 5.5000,  4.0000, 13.5000])\n",
            "tensor([-0.9000, -1.6000, -2.1000])\n",
            "tensor([ 7.3600,  3.3600, 44.4600])\n",
            "tensor([0.7188, 0.4286, 0.7308])\n"
          ]
        }
      ]
    },
    {
      "cell_type": "code",
      "source": [
        "# slice\n",
        "tensor = torch.rand(5,3)\n",
        "print(tensor)\n",
        "print(tensor[:,1:3])\n",
        "print(tensor[1,1].item())"
      ],
      "metadata": {
        "colab": {
          "base_uri": "https://localhost:8080/"
        },
        "id": "oKB4AdGTW6Cg",
        "outputId": "84a7e3ad-c49f-489a-b543-61a81326170d"
      },
      "execution_count": 13,
      "outputs": [
        {
          "output_type": "stream",
          "name": "stdout",
          "text": [
            "tensor([[0.0654, 0.5050, 0.4955],\n",
            "        [0.0336, 0.8246, 0.6069],\n",
            "        [0.8794, 0.5914, 0.8932],\n",
            "        [0.5411, 0.3636, 0.9116],\n",
            "        [0.9381, 0.2412, 0.6803]])\n",
            "tensor([[0.5050, 0.4955],\n",
            "        [0.8246, 0.6069],\n",
            "        [0.5914, 0.8932],\n",
            "        [0.3636, 0.9116],\n",
            "        [0.2412, 0.6803]])\n",
            "0.8245742321014404\n"
          ]
        }
      ]
    },
    {
      "cell_type": "code",
      "source": [
        "# view\n",
        "tensor = torch.rand(2,6)\n",
        "print(tensor)\n",
        "print(tensor.view(3,4))\n",
        "print(tensor.view(12))\n",
        "print(tensor.view(12,1))\n",
        "print(tensor.view(1,12))\n",
        "print(tensor.view(-1,3))"
      ],
      "metadata": {
        "colab": {
          "base_uri": "https://localhost:8080/"
        },
        "id": "AvZJxyyWXvTJ",
        "outputId": "324e4612-b608-42bc-88c8-5eb065cd02e0"
      },
      "execution_count": 14,
      "outputs": [
        {
          "output_type": "stream",
          "name": "stdout",
          "text": [
            "tensor([[0.1252, 0.7135, 0.4713, 0.6988, 0.9257, 0.4870],\n",
            "        [0.6097, 0.7308, 0.8275, 0.6712, 0.2861, 0.7272]])\n",
            "tensor([[0.1252, 0.7135, 0.4713, 0.6988],\n",
            "        [0.9257, 0.4870, 0.6097, 0.7308],\n",
            "        [0.8275, 0.6712, 0.2861, 0.7272]])\n",
            "tensor([0.1252, 0.7135, 0.4713, 0.6988, 0.9257, 0.4870, 0.6097, 0.7308, 0.8275,\n",
            "        0.6712, 0.2861, 0.7272])\n",
            "tensor([[0.1252],\n",
            "        [0.7135],\n",
            "        [0.4713],\n",
            "        [0.6988],\n",
            "        [0.9257],\n",
            "        [0.4870],\n",
            "        [0.6097],\n",
            "        [0.7308],\n",
            "        [0.8275],\n",
            "        [0.6712],\n",
            "        [0.2861],\n",
            "        [0.7272]])\n",
            "tensor([[0.1252, 0.7135, 0.4713, 0.6988, 0.9257, 0.4870, 0.6097, 0.7308, 0.8275,\n",
            "         0.6712, 0.2861, 0.7272]])\n",
            "tensor([[0.1252, 0.7135, 0.4713],\n",
            "        [0.6988, 0.9257, 0.4870],\n",
            "        [0.6097, 0.7308, 0.8275],\n",
            "        [0.6712, 0.2861, 0.7272]])\n"
          ]
        }
      ]
    },
    {
      "cell_type": "code",
      "source": [
        "# GPU\n",
        "print(torch.cuda.is_available())\n",
        "# if torch.cuda.is_available():\n",
        "#   device = torch.device(\"cuda\")\n",
        "\n",
        "device = torch.device(\"cuda\" if torch.cuda.is_available() else \"cpu\")\n",
        "\n",
        "x = torch.rand(3,2).to(device)\n",
        "print(x)\n",
        "x = x.to(\"cpu\")\n",
        "print(x)"
      ],
      "metadata": {
        "colab": {
          "base_uri": "https://localhost:8080/"
        },
        "id": "VZ7I6OKBYpaX",
        "outputId": "fd5a9368-ac4c-4390-e2f8-fb7e4b69b398"
      },
      "execution_count": 15,
      "outputs": [
        {
          "output_type": "stream",
          "name": "stdout",
          "text": [
            "True\n",
            "tensor([[0.8946, 0.9282],\n",
            "        [0.7663, 0.1818],\n",
            "        [0.3857, 0.7407]], device='cuda:0')\n",
            "tensor([[0.8946, 0.9282],\n",
            "        [0.7663, 0.1818],\n",
            "        [0.3857, 0.7407]])\n"
          ]
        }
      ]
    }
  ]
}